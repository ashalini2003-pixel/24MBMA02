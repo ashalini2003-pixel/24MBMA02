{
 "cells": [
  {
   "cell_type": "code",
   "execution_count": 0,
   "metadata": {
    "application/vnd.databricks.v1+cell": {
     "cellMetadata": {
      "byteLimit": 2048000,
      "implicitDf": true,
      "rowLimit": 10000
     },
     "inputWidgets": {},
     "nuid": "727ee035-e986-4e09-835d-d5a24f1c9c19",
     "showTitle": false,
     "tableResultSettingsMap": {},
     "title": ""
    }
   },
   "outputs": [
    {
     "output_type": "display_data",
     "data": {
      "text/html": [
       "<style scoped>\n",
       "  .table-result-container {\n",
       "    max-height: 300px;\n",
       "    overflow: auto;\n",
       "  }\n",
       "  table, th, td {\n",
       "    border: 1px solid black;\n",
       "    border-collapse: collapse;\n",
       "  }\n",
       "  th, td {\n",
       "    padding: 5px;\n",
       "  }\n",
       "  th {\n",
       "    text-align: left;\n",
       "  }\n",
       "</style><div class='table-result-container'><table class='table-result'><thead style='background-color: white'><tr><th>hotel_id</th><th>hotel_name</th><th>total_revenue</th></tr></thead><tbody><tr><td>H110</td><td>Marina Grand</td><td>21000</td></tr><tr><td>H132</td><td>Taj View Hotel</td><td>19500</td></tr><tr><td>H142</td><td>Blue City Resort</td><td>18500</td></tr><tr><td>H104</td><td>Lake View Resort</td><td>18000</td></tr><tr><td>H127</td><td>Beach Bay Resort</td><td>17800</td></tr><tr><td>H148</td><td>Sports City Hotel</td><td>17600</td></tr><tr><td>H136</td><td>Ajanta Resort</td><td>17200</td></tr><tr><td>H144</td><td>Paradise Inn</td><td>15200</td></tr><tr><td>H101</td><td>Sea View Hotel</td><td>15000</td></tr><tr><td>H130</td><td>Lake Palace Inn</td><td>15000</td></tr><tr><td>H113</td><td>Rose Garden Inn</td><td>14500</td></tr><tr><td>H108</td><td>City Comfort Inn</td><td>13500</td></tr><tr><td>H116</td><td>Lake City Resort</td><td>13300</td></tr><tr><td>H120</td><td>Orange City Hotel</td><td>12800</td></tr><tr><td>H147</td><td>Hillside Resort</td><td>12800</td></tr><tr><td>H135</td><td>Rockfort Inn</td><td>12500</td></tr><tr><td>H125</td><td>Doon Valley Inn</td><td>12200</td></tr><tr><td>H112</td><td>Golden Heritage</td><td>12000</td></tr><tr><td>H140</td><td>Kathiawadi Inn</td><td>11800</td></tr><tr><td>H126</td><td>Textile Hub Hotel</td><td>9700</td></tr><tr><td>H138</td><td>Port City Hotel</td><td>9600</td></tr><tr><td>H150</td><td>Millennium Hotel</td><td>9400</td></tr><tr><td>H129</td><td>Steel City Stay</td><td>9300</td></tr><tr><td>H123</td><td>Brahmaputra View</td><td>9200</td></tr><tr><td>H119</td><td>Tribal Heritage</td><td>8900</td></tr><tr><td>H141</td><td>Bamboo Grove Inn</td><td>8900</td></tr><tr><td>H109</td><td>Central Park Hotel</td><td>8800</td></tr><tr><td>H115</td><td>Riverfront Hotel</td><td>8600</td></tr><tr><td>H102</td><td>Royal Palace</td><td>8500</td></tr><tr><td>H107</td><td>Heritage Stay</td><td>8000</td></tr><tr><td>H114</td><td>Diamond Hotel</td><td>7800</td></tr><tr><td>H134</td><td>Temple Heritage</td><td>7600</td></tr><tr><td>H146</td><td>Industrial Stay</td><td>7500</td></tr><tr><td>H121</td><td>Leather City Inn</td><td>7500</td></tr><tr><td>H143</td><td>Textile Town Inn</td><td>7400</td></tr><tr><td>H118</td><td>Palace View Inn</td><td>7200</td></tr><tr><td>H149</td><td>NCR Comfort Inn</td><td>7200</td></tr><tr><td>H131</td><td>Wineyard Resort</td><td>7100</td></tr><tr><td>H105</td><td>Marina Bay Hotel</td><td>7000</td></tr><tr><td>H137</td><td>Pooram Palace</td><td>6900</td></tr><tr><td>H124</td><td>Temple City Stay</td><td>6800</td></tr></tbody></table></div>"
      ]
     },
     "metadata": {
      "application/vnd.databricks.v1+output": {
       "addedWidgets": {},
       "aggData": [],
       "aggError": "",
       "aggOverflow": false,
       "aggSchema": [],
       "aggSeriesLimitReached": false,
       "aggType": "",
       "arguments": {},
       "columnCustomDisplayInfos": {},
       "data": [
        [
         "H110",
         "Marina Grand",
         21000
        ],
        [
         "H132",
         "Taj View Hotel",
         19500
        ],
        [
         "H142",
         "Blue City Resort",
         18500
        ],
        [
         "H104",
         "Lake View Resort",
         18000
        ],
        [
         "H127",
         "Beach Bay Resort",
         17800
        ],
        [
         "H148",
         "Sports City Hotel",
         17600
        ],
        [
         "H136",
         "Ajanta Resort",
         17200
        ],
        [
         "H144",
         "Paradise Inn",
         15200
        ],
        [
         "H101",
         "Sea View Hotel",
         15000
        ],
        [
         "H130",
         "Lake Palace Inn",
         15000
        ],
        [
         "H113",
         "Rose Garden Inn",
         14500
        ],
        [
         "H108",
         "City Comfort Inn",
         13500
        ],
        [
         "H116",
         "Lake City Resort",
         13300
        ],
        [
         "H120",
         "Orange City Hotel",
         12800
        ],
        [
         "H147",
         "Hillside Resort",
         12800
        ],
        [
         "H135",
         "Rockfort Inn",
         12500
        ],
        [
         "H125",
         "Doon Valley Inn",
         12200
        ],
        [
         "H112",
         "Golden Heritage",
         12000
        ],
        [
         "H140",
         "Kathiawadi Inn",
         11800
        ],
        [
         "H126",
         "Textile Hub Hotel",
         9700
        ],
        [
         "H138",
         "Port City Hotel",
         9600
        ],
        [
         "H150",
         "Millennium Hotel",
         9400
        ],
        [
         "H129",
         "Steel City Stay",
         9300
        ],
        [
         "H123",
         "Brahmaputra View",
         9200
        ],
        [
         "H119",
         "Tribal Heritage",
         8900
        ],
        [
         "H141",
         "Bamboo Grove Inn",
         8900
        ],
        [
         "H109",
         "Central Park Hotel",
         8800
        ],
        [
         "H115",
         "Riverfront Hotel",
         8600
        ],
        [
         "H102",
         "Royal Palace",
         8500
        ],
        [
         "H107",
         "Heritage Stay",
         8000
        ],
        [
         "H114",
         "Diamond Hotel",
         7800
        ],
        [
         "H134",
         "Temple Heritage",
         7600
        ],
        [
         "H146",
         "Industrial Stay",
         7500
        ],
        [
         "H121",
         "Leather City Inn",
         7500
        ],
        [
         "H143",
         "Textile Town Inn",
         7400
        ],
        [
         "H118",
         "Palace View Inn",
         7200
        ],
        [
         "H149",
         "NCR Comfort Inn",
         7200
        ],
        [
         "H131",
         "Wineyard Resort",
         7100
        ],
        [
         "H105",
         "Marina Bay Hotel",
         7000
        ],
        [
         "H137",
         "Pooram Palace",
         6900
        ],
        [
         "H124",
         "Temple City Stay",
         6800
        ]
       ],
       "datasetInfos": [
        {
         "name": "_sqldf",
         "schema": {
          "fields": [
           {
            "metadata": {},
            "name": "hotel_id",
            "nullable": true,
            "type": "string"
           },
           {
            "metadata": {},
            "name": "hotel_name",
            "nullable": true,
            "type": "string"
           },
           {
            "metadata": {},
            "name": "total_revenue",
            "nullable": true,
            "type": "long"
           }
          ],
          "type": "struct"
         },
         "tableIdentifier": null,
         "typeStr": "pyspark.sql.connect.dataframe.DataFrame"
        }
       ],
       "dbfsResultPath": null,
       "isJsonSchema": true,
       "metadata": {
        "createTempViewForImplicitDf": true,
        "dataframeName": "_sqldf",
        "executionCount": 2
       },
       "overflow": false,
       "plotOptions": {
        "customPlotOptions": {},
        "displayType": "table",
        "pivotAggregation": null,
        "pivotColumns": null,
        "xColumns": null,
        "yColumns": null
       },
       "removedWidgets": [],
       "schema": [
        {
         "metadata": "{}",
         "name": "hotel_id",
         "type": "\"string\""
        },
        {
         "metadata": "{}",
         "name": "hotel_name",
         "type": "\"string\""
        },
        {
         "metadata": "{}",
         "name": "total_revenue",
         "type": "\"long\""
        }
       ],
       "type": "table"
      }
     },
     "output_type": "display_data"
    },
    {
     "output_type": "display_data",
     "data": {
      "text/plain": [
       "Databricks visualization. Run in Databricks to view."
      ]
     },
     "metadata": {
      "application/vnd.databricks.v1.subcommand+json": {
       "baseErrorDetails": null,
       "bindings": {},
       "collapsed": false,
       "command": "%sql WITH q AS (SELECT \n    hotel_id,\n    hotel_name,\n    SUM(amount_spent) AS total_revenue\nFROM workspace.default.travel_bookings\nWHERE status = 'Booked'\nGROUP BY hotel_id, hotel_name\nORDER BY total_revenue DESC) SELECT `total_revenue`,`hotel_name` FROM q GROUP BY `hotel_name`,`total_revenue`",
       "commandTitle": "Visualization 1",
       "commandType": "auto",
       "commandVersion": 0,
       "commentThread": [],
       "commentsVisible": false,
       "contentSha256Hex": null,
       "customPlotOptions": {
        "redashChart": [
         {
          "key": "type",
          "value": "CHART"
         },
         {
          "key": "options",
          "value": {
           "alignYAxesAtZero": true,
           "coefficient": 1,
           "columnConfigurationMap": {
            "series": {
             "column": "hotel_name",
             "id": "column_91ae199675"
            },
            "x": {
             "column": "total_revenue",
             "id": "column_91ae199674"
            },
            "y": []
           },
           "dateTimeFormat": "DD/MM/YYYY HH:mm",
           "direction": {
            "type": "counterclockwise"
           },
           "error_y": {
            "type": "data",
            "visible": true
           },
           "globalSeriesType": "column",
           "legend": {
            "traceorder": "normal"
           },
           "missingValuesAsZero": true,
           "numberFormat": "0,0.[00000]",
           "percentFormat": "0[.]00%",
           "series": {
            "error_y": {
             "type": "data",
             "visible": true
            },
            "stacking": null
           },
           "seriesOptions": {},
           "showDataLabels": false,
           "sizemode": "diameter",
           "sortX": true,
           "sortY": true,
           "swappedAxes": true,
           "textFormat": "",
           "useAggregationsUi": true,
           "valuesOptions": {},
           "version": 2,
           "xAxis": {
            "labels": {
             "enabled": true
            },
            "type": "-"
           },
           "yAxis": [
            {
             "type": "-"
            },
            {
             "opposite": true,
             "type": "-"
            }
           ]
          }
         }
        ]
       },
       "datasetPreviewNameToCmdIdMap": {},
       "diffDeletes": [],
       "diffInserts": [],
       "displayType": "redashChart",
       "error": null,
       "errorDetails": null,
       "errorSummary": null,
       "errorTraceType": null,
       "finishTime": 0,
       "globalVars": {},
       "guid": "",
       "height": "auto",
       "hideCommandCode": false,
       "hideCommandResult": false,
       "iPythonMetadata": null,
       "inputWidgets": {},
       "isLockedInExamMode": false,
       "latestAssumeRoleInfo": null,
       "latestUser": "a user",
       "latestUserId": null,
       "listResultMetadata": null,
       "metadata": {},
       "nuid": "e83a32cb-97c3-476e-b12a-9989552107d5",
       "origId": 0,
       "parentHierarchy": [],
       "pivotAggregation": null,
       "pivotColumns": null,
       "position": 101.0,
       "resultDbfsErrorMessage": null,
       "resultDbfsStatus": "INLINED_IN_TREE",
       "results": null,
       "showCommandTitle": false,
       "startTime": 0,
       "state": "input",
       "streamStates": {},
       "subcommandOptions": {
        "queryPlan": {
         "groups": [
          {
           "column": "total_revenue",
           "type": "column"
          },
          {
           "column": "hotel_name",
           "type": "column"
          }
         ],
         "selects": [
          {
           "column": "total_revenue",
           "type": "column"
          },
          {
           "column": "hotel_name",
           "type": "column"
          }
         ]
        }
       },
       "submitTime": 0,
       "subtype": "tableResultSubCmd.visualization",
       "tableResultIndex": 0,
       "tableResultSettingsMap": {},
       "useConsistentColors": false,
       "version": "CommandV1",
       "width": "auto",
       "workflows": [],
       "xColumns": null,
       "yColumns": null
      }
     },
     "output_type": "display_data"
    }
   ],
   "source": [
    "%sql\n",
    "SELECT \n",
    "    hotel_id,\n",
    "    hotel_name,\n",
    "    SUM(amount_spent) AS total_revenue\n",
    "FROM workspace.default.travel_bookings\n",
    "WHERE status = 'Booked'\n",
    "GROUP BY hotel_id, hotel_name\n",
    "ORDER BY total_revenue DESC;\n"
   ]
  },
  {
   "cell_type": "code",
   "execution_count": 0,
   "metadata": {
    "application/vnd.databricks.v1+cell": {
     "cellMetadata": {
      "byteLimit": 2048000,
      "implicitDf": true,
      "rowLimit": 10000
     },
     "inputWidgets": {},
     "nuid": "e113b0b5-974c-4d89-ae4a-ed6435b09404",
     "showTitle": false,
     "tableResultSettingsMap": {},
     "title": ""
    }
   },
   "outputs": [
    {
     "output_type": "display_data",
     "data": {
      "text/html": [
       "<style scoped>\n",
       "  .table-result-container {\n",
       "    max-height: 300px;\n",
       "    overflow: auto;\n",
       "  }\n",
       "  table, th, td {\n",
       "    border: 1px solid black;\n",
       "    border-collapse: collapse;\n",
       "  }\n",
       "  th, td {\n",
       "    padding: 5px;\n",
       "  }\n",
       "  th {\n",
       "    text-align: left;\n",
       "  }\n",
       "</style><div class='table-result-container'><table class='table-result'><thead style='background-color: white'><tr><th>location</th><th>avg_stay_duration</th></tr></thead><tbody><tr><td>RK Beach</td><td>5.0</td></tr><tr><td>Mehrangarh</td><td>5.0</td></tr><tr><td>Banjara Hills</td><td>5.0</td></tr><tr><td>Caves Road</td><td>5.0</td></tr><tr><td>Marina Beach</td><td>5.0</td></tr><tr><td>Taj Ganj</td><td>5.0</td></tr><tr><td>Shastri Nagar</td><td>5.0</td></tr><tr><td>Chatram</td><td>4.0</td></tr><tr><td>Upper Lake</td><td>4.0</td></tr><tr><td>Fateh Sagar</td><td>4.0</td></tr><tr><td>Rajpur Road</td><td>4.0</td></tr><tr><td>Dal Lake</td><td>4.0</td></tr><tr><td>Koregaon Park</td><td>4.0</td></tr><tr><td>Sector 17</td><td>4.0</td></tr><tr><td>Kalavad Rd</td><td>4.0</td></tr><tr><td>Sitabuldi</td><td>4.0</td></tr><tr><td>Bahu Fort</td><td>4.0</td></tr><tr><td>Hampankatta</td><td>3.0</td></tr><tr><td>Morabadi</td><td>3.0</td></tr><tr><td>Vijay Nagar</td><td>3.0</td></tr><tr><td>Gandhi Maidan</td><td>3.0</td></tr><tr><td>Bistupur</td><td>3.0</td></tr><tr><td>Gandhipuram</td><td>3.0</td></tr><tr><td>Cyber City</td><td>3.0</td></tr><tr><td>GS Road</td><td>3.0</td></tr><tr><td>Juhu Beach</td><td>3.0</td></tr><tr><td>Golden Temple</td><td>3.0</td></tr><tr><td>Civil Lines</td><td>2.5</td></tr><tr><td>Gangapur Rd</td><td>2.0</td></tr><tr><td>Ring Road</td><td>2.0</td></tr><tr><td>Khandagiri</td><td>2.0</td></tr><tr><td>Meenakshi St</td><td>2.0</td></tr><tr><td>Connaught Pl</td><td>2.0</td></tr><tr><td>Fort Kochi</td><td>2.0</td></tr><tr><td>Palace Road</td><td>2.0</td></tr><tr><td>Swaraj Round</td><td>2.0</td></tr><tr><td>Ashram Road</td><td>2.0</td></tr><tr><td>Station Rd</td><td>2.0</td></tr><tr><td>Mathura Rd</td><td>2.0</td></tr><tr><td>Vaishali</td><td>2.0</td></tr></tbody></table></div>"
      ]
     },
     "metadata": {
      "application/vnd.databricks.v1+output": {
       "addedWidgets": {},
       "aggData": [],
       "aggError": "",
       "aggOverflow": false,
       "aggSchema": [],
       "aggSeriesLimitReached": false,
       "aggType": "",
       "arguments": {},
       "columnCustomDisplayInfos": {},
       "data": [
        [
         "RK Beach",
         5.0
        ],
        [
         "Mehrangarh",
         5.0
        ],
        [
         "Banjara Hills",
         5.0
        ],
        [
         "Caves Road",
         5.0
        ],
        [
         "Marina Beach",
         5.0
        ],
        [
         "Taj Ganj",
         5.0
        ],
        [
         "Shastri Nagar",
         5.0
        ],
        [
         "Chatram",
         4.0
        ],
        [
         "Upper Lake",
         4.0
        ],
        [
         "Fateh Sagar",
         4.0
        ],
        [
         "Rajpur Road",
         4.0
        ],
        [
         "Dal Lake",
         4.0
        ],
        [
         "Koregaon Park",
         4.0
        ],
        [
         "Sector 17",
         4.0
        ],
        [
         "Kalavad Rd",
         4.0
        ],
        [
         "Sitabuldi",
         4.0
        ],
        [
         "Bahu Fort",
         4.0
        ],
        [
         "Hampankatta",
         3.0
        ],
        [
         "Morabadi",
         3.0
        ],
        [
         "Vijay Nagar",
         3.0
        ],
        [
         "Gandhi Maidan",
         3.0
        ],
        [
         "Bistupur",
         3.0
        ],
        [
         "Gandhipuram",
         3.0
        ],
        [
         "Cyber City",
         3.0
        ],
        [
         "GS Road",
         3.0
        ],
        [
         "Juhu Beach",
         3.0
        ],
        [
         "Golden Temple",
         3.0
        ],
        [
         "Civil Lines",
         2.5
        ],
        [
         "Gangapur Rd",
         2.0
        ],
        [
         "Ring Road",
         2.0
        ],
        [
         "Khandagiri",
         2.0
        ],
        [
         "Meenakshi St",
         2.0
        ],
        [
         "Connaught Pl",
         2.0
        ],
        [
         "Fort Kochi",
         2.0
        ],
        [
         "Palace Road",
         2.0
        ],
        [
         "Swaraj Round",
         2.0
        ],
        [
         "Ashram Road",
         2.0
        ],
        [
         "Station Rd",
         2.0
        ],
        [
         "Mathura Rd",
         2.0
        ],
        [
         "Vaishali",
         2.0
        ]
       ],
       "datasetInfos": [
        {
         "name": "_sqldf",
         "schema": {
          "fields": [
           {
            "metadata": {},
            "name": "location",
            "nullable": true,
            "type": "string"
           },
           {
            "metadata": {},
            "name": "avg_stay_duration",
            "nullable": true,
            "type": "double"
           }
          ],
          "type": "struct"
         },
         "tableIdentifier": null,
         "typeStr": "pyspark.sql.connect.dataframe.DataFrame"
        }
       ],
       "dbfsResultPath": null,
       "isJsonSchema": true,
       "metadata": {
        "createTempViewForImplicitDf": true,
        "dataframeName": "_sqldf",
        "executionCount": 3
       },
       "overflow": false,
       "plotOptions": {
        "customPlotOptions": {},
        "displayType": "table",
        "pivotAggregation": null,
        "pivotColumns": null,
        "xColumns": null,
        "yColumns": null
       },
       "removedWidgets": [],
       "schema": [
        {
         "metadata": "{}",
         "name": "location",
         "type": "\"string\""
        },
        {
         "metadata": "{}",
         "name": "avg_stay_duration",
         "type": "\"double\""
        }
       ],
       "type": "table"
      }
     },
     "output_type": "display_data"
    },
    {
     "output_type": "display_data",
     "data": {
      "text/plain": [
       "Databricks visualization. Run in Databricks to view."
      ]
     },
     "metadata": {
      "application/vnd.databricks.v1.subcommand+json": {
       "baseErrorDetails": null,
       "bindings": {},
       "collapsed": false,
       "command": "%sql WITH q AS (SELECT \n    location,\n    AVG(stay_duration) AS avg_stay_duration\nFROM workspace.default.travel_bookings\nWHERE status = 'Booked'\nGROUP BY location\nORDER BY avg_stay_duration DESC) SELECT `location`,`avg_stay_duration` FROM q GROUP BY `avg_stay_duration`,`location`",
       "commandTitle": "Visualization 1",
       "commandType": "auto",
       "commandVersion": 0,
       "commentThread": [],
       "commentsVisible": false,
       "contentSha256Hex": null,
       "customPlotOptions": {
        "redashChart": [
         {
          "key": "type",
          "value": "CHART"
         },
         {
          "key": "options",
          "value": {
           "alignYAxesAtZero": true,
           "coefficient": 1,
           "columnConfigurationMap": {
            "series": {
             "column": "avg_stay_duration",
             "id": "column_91ae199673"
            },
            "x": {
             "column": "location",
             "id": "column_91ae199672"
            },
            "y": []
           },
           "dateTimeFormat": "DD/MM/YYYY HH:mm",
           "direction": {
            "type": "counterclockwise"
           },
           "error_y": {
            "type": "data",
            "visible": true
           },
           "globalSeriesType": "column",
           "legend": {
            "traceorder": "normal"
           },
           "missingValuesAsZero": true,
           "numberFormat": "0,0.[00000]",
           "percentFormat": "0[.]00%",
           "series": {
            "error_y": {
             "type": "data",
             "visible": true
            },
            "stacking": null
           },
           "seriesOptions": {},
           "showDataLabels": false,
           "sizemode": "diameter",
           "sortX": true,
           "sortY": true,
           "swappedAxes": true,
           "textFormat": "",
           "useAggregationsUi": true,
           "valuesOptions": {},
           "version": 2,
           "xAxis": {
            "labels": {
             "enabled": true
            },
            "type": "-"
           },
           "yAxis": [
            {
             "type": "-"
            },
            {
             "opposite": true,
             "type": "-"
            }
           ]
          }
         }
        ]
       },
       "datasetPreviewNameToCmdIdMap": {},
       "diffDeletes": [],
       "diffInserts": [],
       "displayType": "redashChart",
       "error": null,
       "errorDetails": null,
       "errorSummary": null,
       "errorTraceType": null,
       "finishTime": 0,
       "globalVars": {},
       "guid": "",
       "height": "auto",
       "hideCommandCode": false,
       "hideCommandResult": false,
       "iPythonMetadata": null,
       "inputWidgets": {},
       "isLockedInExamMode": false,
       "latestAssumeRoleInfo": null,
       "latestUser": "a user",
       "latestUserId": null,
       "listResultMetadata": null,
       "metadata": {},
       "nuid": "a6a29d5c-6a8a-4bf9-9fd2-bc57578b6bc5",
       "origId": 0,
       "parentHierarchy": [],
       "pivotAggregation": null,
       "pivotColumns": null,
       "position": 102.0,
       "resultDbfsErrorMessage": null,
       "resultDbfsStatus": "INLINED_IN_TREE",
       "results": null,
       "showCommandTitle": false,
       "startTime": 0,
       "state": "input",
       "streamStates": {},
       "subcommandOptions": {
        "queryPlan": {
         "groups": [
          {
           "column": "location",
           "type": "column"
          },
          {
           "column": "avg_stay_duration",
           "type": "column"
          }
         ],
         "selects": [
          {
           "column": "location",
           "type": "column"
          },
          {
           "column": "avg_stay_duration",
           "type": "column"
          }
         ]
        }
       },
       "submitTime": 0,
       "subtype": "tableResultSubCmd.visualization",
       "tableResultIndex": 0,
       "tableResultSettingsMap": {},
       "useConsistentColors": false,
       "version": "CommandV1",
       "width": "auto",
       "workflows": [],
       "xColumns": null,
       "yColumns": null
      }
     },
     "output_type": "display_data"
    }
   ],
   "source": [
    "%sql\n",
    "SELECT \n",
    "    location,\n",
    "    AVG(stay_duration) AS avg_stay_duration\n",
    "FROM workspace.default.travel_bookings\n",
    "WHERE status = 'Booked'\n",
    "GROUP BY location\n",
    "ORDER BY avg_stay_duration DESC;\n"
   ]
  },
  {
   "cell_type": "code",
   "execution_count": 0,
   "metadata": {
    "application/vnd.databricks.v1+cell": {
     "cellMetadata": {
      "byteLimit": 2048000,
      "implicitDf": true,
      "rowLimit": 10000
     },
     "inputWidgets": {},
     "nuid": "d5deb6d9-3a17-471f-9db5-a576a13b3b90",
     "showTitle": false,
     "tableResultSettingsMap": {},
     "title": ""
    }
   },
   "outputs": [
    {
     "output_type": "display_data",
     "data": {
      "text/html": [
       "<style scoped>\n",
       "  .table-result-container {\n",
       "    max-height: 300px;\n",
       "    overflow: auto;\n",
       "  }\n",
       "  table, th, td {\n",
       "    border: 1px solid black;\n",
       "    border-collapse: collapse;\n",
       "  }\n",
       "  th, td {\n",
       "    padding: 5px;\n",
       "  }\n",
       "  th {\n",
       "    text-align: left;\n",
       "  }\n",
       "</style><div class='table-result-container'><table class='table-result'><thead style='background-color: white'><tr><th>hotel_id</th><th>hotel_name</th><th>cancellation_rate_percent</th></tr></thead><tbody><tr><td>H145</td><td>Metro Comfort Inn</td><td>100.00000000000000</td></tr><tr><td>H128</td><td>Fort View Hotel</td><td>100.00000000000000</td></tr><tr><td>H103</td><td>Green Valley Inn</td><td>100.00000000000000</td></tr><tr><td>H117</td><td>Victoria Stay</td><td>100.00000000000000</td></tr><tr><td>H122</td><td>Tea Garden Resort</td><td>100.00000000000000</td></tr><tr><td>H111</td><td>Nawabi Stay</td><td>100.00000000000000</td></tr><tr><td>H139</td><td>Steel Hub Stay</td><td>100.00000000000000</td></tr><tr><td>H133</td><td>Ganga View Stay</td><td>100.00000000000000</td></tr><tr><td>H106</td><td>Pink City Hotel</td><td>100.00000000000000</td></tr><tr><td>H129</td><td>Steel City Stay</td><td>0E-14</td></tr><tr><td>H124</td><td>Temple City Stay</td><td>0E-14</td></tr><tr><td>H148</td><td>Sports City Hotel</td><td>0E-14</td></tr><tr><td>H113</td><td>Rose Garden Inn</td><td>0E-14</td></tr><tr><td>H127</td><td>Beach Bay Resort</td><td>0E-14</td></tr><tr><td>H149</td><td>NCR Comfort Inn</td><td>0E-14</td></tr><tr><td>H150</td><td>Millennium Hotel</td><td>0E-14</td></tr><tr><td>H143</td><td>Textile Town Inn</td><td>0E-14</td></tr><tr><td>H138</td><td>Port City Hotel</td><td>0E-14</td></tr><tr><td>H120</td><td>Orange City Hotel</td><td>0E-14</td></tr><tr><td>H140</td><td>Kathiawadi Inn</td><td>0E-14</td></tr><tr><td>H119</td><td>Tribal Heritage</td><td>0E-14</td></tr><tr><td>H142</td><td>Blue City Resort</td><td>0E-14</td></tr><tr><td>H125</td><td>Doon Valley Inn</td><td>0E-14</td></tr><tr><td>H147</td><td>Hillside Resort</td><td>0E-14</td></tr><tr><td>H105</td><td>Marina Bay Hotel</td><td>0E-14</td></tr><tr><td>H123</td><td>Brahmaputra View</td><td>0E-14</td></tr><tr><td>H144</td><td>Paradise Inn</td><td>0E-14</td></tr><tr><td>H134</td><td>Temple Heritage</td><td>0E-14</td></tr><tr><td>H112</td><td>Golden Heritage</td><td>0E-14</td></tr><tr><td>H126</td><td>Textile Hub Hotel</td><td>0E-14</td></tr><tr><td>H132</td><td>Taj View Hotel</td><td>0E-14</td></tr><tr><td>H135</td><td>Rockfort Inn</td><td>0E-14</td></tr><tr><td>H116</td><td>Lake City Resort</td><td>0E-14</td></tr><tr><td>H121</td><td>Leather City Inn</td><td>0E-14</td></tr><tr><td>H104</td><td>Lake View Resort</td><td>0E-14</td></tr><tr><td>H115</td><td>Riverfront Hotel</td><td>0E-14</td></tr><tr><td>H109</td><td>Central Park Hotel</td><td>0E-14</td></tr><tr><td>H101</td><td>Sea View Hotel</td><td>0E-14</td></tr><tr><td>H102</td><td>Royal Palace</td><td>0E-14</td></tr><tr><td>H118</td><td>Palace View Inn</td><td>0E-14</td></tr><tr><td>H108</td><td>City Comfort Inn</td><td>0E-14</td></tr><tr><td>H137</td><td>Pooram Palace</td><td>0E-14</td></tr><tr><td>H107</td><td>Heritage Stay</td><td>0E-14</td></tr><tr><td>H131</td><td>Wineyard Resort</td><td>0E-14</td></tr><tr><td>H136</td><td>Ajanta Resort</td><td>0E-14</td></tr><tr><td>H141</td><td>Bamboo Grove Inn</td><td>0E-14</td></tr><tr><td>H146</td><td>Industrial Stay</td><td>0E-14</td></tr><tr><td>H114</td><td>Diamond Hotel</td><td>0E-14</td></tr><tr><td>H110</td><td>Marina Grand</td><td>0E-14</td></tr><tr><td>H130</td><td>Lake Palace Inn</td><td>0E-14</td></tr><tr><td>null</td><td>null</td><td>0E-14</td></tr></tbody></table></div>"
      ]
     },
     "metadata": {
      "application/vnd.databricks.v1+output": {
       "addedWidgets": {},
       "aggData": [],
       "aggError": "",
       "aggOverflow": false,
       "aggSchema": [],
       "aggSeriesLimitReached": false,
       "aggType": "",
       "arguments": {},
       "columnCustomDisplayInfos": {},
       "data": [
        [
         "H145",
         "Metro Comfort Inn",
         "100.00000000000000"
        ],
        [
         "H128",
         "Fort View Hotel",
         "100.00000000000000"
        ],
        [
         "H103",
         "Green Valley Inn",
         "100.00000000000000"
        ],
        [
         "H117",
         "Victoria Stay",
         "100.00000000000000"
        ],
        [
         "H122",
         "Tea Garden Resort",
         "100.00000000000000"
        ],
        [
         "H111",
         "Nawabi Stay",
         "100.00000000000000"
        ],
        [
         "H139",
         "Steel Hub Stay",
         "100.00000000000000"
        ],
        [
         "H133",
         "Ganga View Stay",
         "100.00000000000000"
        ],
        [
         "H106",
         "Pink City Hotel",
         "100.00000000000000"
        ],
        [
         "H129",
         "Steel City Stay",
         "0E-14"
        ],
        [
         "H124",
         "Temple City Stay",
         "0E-14"
        ],
        [
         "H148",
         "Sports City Hotel",
         "0E-14"
        ],
        [
         "H113",
         "Rose Garden Inn",
         "0E-14"
        ],
        [
         "H127",
         "Beach Bay Resort",
         "0E-14"
        ],
        [
         "H149",
         "NCR Comfort Inn",
         "0E-14"
        ],
        [
         "H150",
         "Millennium Hotel",
         "0E-14"
        ],
        [
         "H143",
         "Textile Town Inn",
         "0E-14"
        ],
        [
         "H138",
         "Port City Hotel",
         "0E-14"
        ],
        [
         "H120",
         "Orange City Hotel",
         "0E-14"
        ],
        [
         "H140",
         "Kathiawadi Inn",
         "0E-14"
        ],
        [
         "H119",
         "Tribal Heritage",
         "0E-14"
        ],
        [
         "H142",
         "Blue City Resort",
         "0E-14"
        ],
        [
         "H125",
         "Doon Valley Inn",
         "0E-14"
        ],
        [
         "H147",
         "Hillside Resort",
         "0E-14"
        ],
        [
         "H105",
         "Marina Bay Hotel",
         "0E-14"
        ],
        [
         "H123",
         "Brahmaputra View",
         "0E-14"
        ],
        [
         "H144",
         "Paradise Inn",
         "0E-14"
        ],
        [
         "H134",
         "Temple Heritage",
         "0E-14"
        ],
        [
         "H112",
         "Golden Heritage",
         "0E-14"
        ],
        [
         "H126",
         "Textile Hub Hotel",
         "0E-14"
        ],
        [
         "H132",
         "Taj View Hotel",
         "0E-14"
        ],
        [
         "H135",
         "Rockfort Inn",
         "0E-14"
        ],
        [
         "H116",
         "Lake City Resort",
         "0E-14"
        ],
        [
         "H121",
         "Leather City Inn",
         "0E-14"
        ],
        [
         "H104",
         "Lake View Resort",
         "0E-14"
        ],
        [
         "H115",
         "Riverfront Hotel",
         "0E-14"
        ],
        [
         "H109",
         "Central Park Hotel",
         "0E-14"
        ],
        [
         "H101",
         "Sea View Hotel",
         "0E-14"
        ],
        [
         "H102",
         "Royal Palace",
         "0E-14"
        ],
        [
         "H118",
         "Palace View Inn",
         "0E-14"
        ],
        [
         "H108",
         "City Comfort Inn",
         "0E-14"
        ],
        [
         "H137",
         "Pooram Palace",
         "0E-14"
        ],
        [
         "H107",
         "Heritage Stay",
         "0E-14"
        ],
        [
         "H131",
         "Wineyard Resort",
         "0E-14"
        ],
        [
         "H136",
         "Ajanta Resort",
         "0E-14"
        ],
        [
         "H141",
         "Bamboo Grove Inn",
         "0E-14"
        ],
        [
         "H146",
         "Industrial Stay",
         "0E-14"
        ],
        [
         "H114",
         "Diamond Hotel",
         "0E-14"
        ],
        [
         "H110",
         "Marina Grand",
         "0E-14"
        ],
        [
         "H130",
         "Lake Palace Inn",
         "0E-14"
        ],
        [
         null,
         null,
         "0E-14"
        ]
       ],
       "datasetInfos": [
        {
         "name": "_sqldf",
         "schema": {
          "fields": [
           {
            "metadata": {},
            "name": "hotel_id",
            "nullable": true,
            "type": "string"
           },
           {
            "metadata": {},
            "name": "hotel_name",
            "nullable": true,
            "type": "string"
           },
           {
            "metadata": {},
            "name": "cancellation_rate_percent",
            "nullable": true,
            "type": "decimal(38,14)"
           }
          ],
          "type": "struct"
         },
         "tableIdentifier": null,
         "typeStr": "pyspark.sql.connect.dataframe.DataFrame"
        }
       ],
       "dbfsResultPath": null,
       "isJsonSchema": true,
       "metadata": {
        "createTempViewForImplicitDf": true,
        "dataframeName": "_sqldf",
        "executionCount": 4
       },
       "overflow": false,
       "plotOptions": {
        "customPlotOptions": {},
        "displayType": "table",
        "pivotAggregation": null,
        "pivotColumns": null,
        "xColumns": null,
        "yColumns": null
       },
       "removedWidgets": [],
       "schema": [
        {
         "metadata": "{}",
         "name": "hotel_id",
         "type": "\"string\""
        },
        {
         "metadata": "{}",
         "name": "hotel_name",
         "type": "\"string\""
        },
        {
         "metadata": "{}",
         "name": "cancellation_rate_percent",
         "type": "\"decimal(38,14)\""
        }
       ],
       "type": "table"
      }
     },
     "output_type": "display_data"
    },
    {
     "output_type": "display_data",
     "data": {
      "text/plain": [
       "Databricks visualization. Run in Databricks to view."
      ]
     },
     "metadata": {
      "application/vnd.databricks.v1.subcommand+json": {
       "baseErrorDetails": null,
       "bindings": {},
       "collapsed": false,
       "command": "%sql WITH q AS (SELECT \n    hotel_id,\n    hotel_name,\n    COUNT(CASE WHEN status = 'Cancelled' THEN 1 END) * 100.0 / COUNT(*) AS cancellation_rate_percent\nFROM workspace.default.travel_bookings\nGROUP BY hotel_id, hotel_name\nORDER BY cancellation_rate_percent DESC) SELECT `hotel_id`,`hotel_name` FROM q GROUP BY `hotel_id`,`hotel_name`",
       "commandTitle": "Visualization 1",
       "commandType": "auto",
       "commandVersion": 0,
       "commentThread": [],
       "commentsVisible": false,
       "contentSha256Hex": null,
       "customPlotOptions": {
        "redashChart": [
         {
          "key": "type",
          "value": "CHART"
         },
         {
          "key": "options",
          "value": {
           "alignYAxesAtZero": true,
           "coefficient": 1,
           "columnConfigurationMap": {
            "series": {
             "column": "hotel_name",
             "id": "column_91ae199667"
            },
            "x": {
             "column": "hotel_id",
             "id": "column_91ae199666"
            },
            "y": []
           },
           "dateTimeFormat": "DD/MM/YYYY HH:mm",
           "direction": {
            "type": "counterclockwise"
           },
           "error_y": {
            "type": "data",
            "visible": true
           },
           "globalSeriesType": "column",
           "legend": {
            "traceorder": "normal"
           },
           "missingValuesAsZero": true,
           "numberFormat": "0,0.[00000]",
           "percentFormat": "0[.]00%",
           "series": {
            "error_y": {
             "type": "data",
             "visible": true
            },
            "stacking": null
           },
           "seriesOptions": {},
           "showDataLabels": false,
           "sizemode": "diameter",
           "sortX": true,
           "sortY": true,
           "swappedAxes": true,
           "textFormat": "",
           "useAggregationsUi": true,
           "valuesOptions": {},
           "version": 2,
           "xAxis": {
            "labels": {
             "enabled": true
            },
            "type": "-"
           },
           "yAxis": [
            {
             "type": "-"
            },
            {
             "opposite": true,
             "type": "-"
            }
           ]
          }
         }
        ]
       },
       "datasetPreviewNameToCmdIdMap": {},
       "diffDeletes": [],
       "diffInserts": [],
       "displayType": "redashChart",
       "error": null,
       "errorDetails": null,
       "errorSummary": null,
       "errorTraceType": null,
       "finishTime": 0,
       "globalVars": {},
       "guid": "",
       "height": "auto",
       "hideCommandCode": false,
       "hideCommandResult": false,
       "iPythonMetadata": null,
       "inputWidgets": {},
       "isLockedInExamMode": false,
       "latestAssumeRoleInfo": null,
       "latestUser": "a user",
       "latestUserId": null,
       "listResultMetadata": null,
       "metadata": {},
       "nuid": "63a91189-76d4-4920-a8cd-dbad18c3e381",
       "origId": 0,
       "parentHierarchy": [],
       "pivotAggregation": null,
       "pivotColumns": null,
       "position": 103.0,
       "resultDbfsErrorMessage": null,
       "resultDbfsStatus": "INLINED_IN_TREE",
       "results": null,
       "showCommandTitle": false,
       "startTime": 0,
       "state": "input",
       "streamStates": {},
       "subcommandOptions": {
        "queryPlan": {
         "groups": [
          {
           "column": "hotel_id",
           "type": "column"
          },
          {
           "column": "hotel_name",
           "type": "column"
          }
         ],
         "selects": [
          {
           "column": "hotel_id",
           "type": "column"
          },
          {
           "column": "hotel_name",
           "type": "column"
          }
         ]
        }
       },
       "submitTime": 0,
       "subtype": "tableResultSubCmd.visualization",
       "tableResultIndex": 0,
       "tableResultSettingsMap": {},
       "useConsistentColors": false,
       "version": "CommandV1",
       "width": "auto",
       "workflows": [],
       "xColumns": null,
       "yColumns": null
      }
     },
     "output_type": "display_data"
    }
   ],
   "source": [
    "%sql\n",
    "SELECT \n",
    "    hotel_id,\n",
    "    hotel_name,\n",
    "    COUNT(CASE WHEN status = 'Cancelled' THEN 1 END) * 100.0 / COUNT(*) AS cancellation_rate_percent\n",
    "FROM workspace.default.travel_bookings\n",
    "GROUP BY hotel_id, hotel_name\n",
    "ORDER BY cancellation_rate_percent DESC;\n"
   ]
  },
  {
   "cell_type": "code",
   "execution_count": 0,
   "metadata": {
    "application/vnd.databricks.v1+cell": {
     "cellMetadata": {
      "byteLimit": 2048000,
      "implicitDf": true,
      "rowLimit": 10000
     },
     "inputWidgets": {},
     "nuid": "d2f69c23-138c-4327-a5c8-1070f897a683",
     "showTitle": false,
     "tableResultSettingsMap": {},
     "title": ""
    }
   },
   "outputs": [
    {
     "output_type": "display_data",
     "data": {
      "text/html": [
       "<style scoped>\n",
       "  .table-result-container {\n",
       "    max-height: 300px;\n",
       "    overflow: auto;\n",
       "  }\n",
       "  table, th, td {\n",
       "    border: 1px solid black;\n",
       "    border-collapse: collapse;\n",
       "  }\n",
       "  th, td {\n",
       "    padding: 5px;\n",
       "  }\n",
       "  th {\n",
       "    text-align: left;\n",
       "  }\n",
       "</style><div class='table-result-container'><table class='table-result'><thead style='background-color: white'><tr><th>booking_month</th><th>location</th><th>total_revenue</th></tr></thead><tbody><tr><td>2025-01</td><td>Marina Beach</td><td>21000</td></tr><tr><td>2025-01</td><td>Banjara Hills</td><td>18000</td></tr><tr><td>2025-01</td><td>Juhu Beach</td><td>15000</td></tr><tr><td>2025-01</td><td>Sector 17</td><td>14500</td></tr><tr><td>2025-01</td><td>Koregaon Park</td><td>13500</td></tr><tr><td>2025-01</td><td>Upper Lake</td><td>13300</td></tr><tr><td>2025-01</td><td>Golden Temple</td><td>12000</td></tr><tr><td>2025-01</td><td>Vijay Nagar</td><td>8800</td></tr><tr><td>2025-01</td><td>Gandhi Maidan</td><td>8600</td></tr><tr><td>2025-01</td><td>Connaught Pl</td><td>8500</td></tr><tr><td>2025-01</td><td>Ashram Road</td><td>8000</td></tr><tr><td>2025-01</td><td>Ring Road</td><td>7800</td></tr><tr><td>2025-01</td><td>Fort Kochi</td><td>7000</td></tr><tr><td>2025-02</td><td>Taj Ganj</td><td>19500</td></tr><tr><td>2025-02</td><td>Mehrangarh</td><td>18500</td></tr><tr><td>2025-02</td><td>RK Beach</td><td>17800</td></tr><tr><td>2025-02</td><td>Caves Road</td><td>17200</td></tr><tr><td>2025-02</td><td>Civil Lines</td><td>16400</td></tr><tr><td>2025-02</td><td>Dal Lake</td><td>15200</td></tr><tr><td>2025-02</td><td>Fateh Sagar</td><td>15000</td></tr><tr><td>2025-02</td><td>Sitabuldi</td><td>12800</td></tr><tr><td>2025-02</td><td>Chatram</td><td>12500</td></tr><tr><td>2025-02</td><td>Rajpur Road</td><td>12200</td></tr><tr><td>2025-02</td><td>Kalavad Rd</td><td>11800</td></tr><tr><td>2025-02</td><td>Gandhipuram</td><td>9700</td></tr><tr><td>2025-02</td><td>Hampankatta</td><td>9600</td></tr><tr><td>2025-02</td><td>Bistupur</td><td>9300</td></tr><tr><td>2025-02</td><td>GS Road</td><td>9200</td></tr><tr><td>2025-02</td><td>Morabadi</td><td>8900</td></tr><tr><td>2025-02</td><td>Meenakshi St</td><td>7600</td></tr><tr><td>2025-02</td><td>Station Rd</td><td>7400</td></tr><tr><td>2025-02</td><td>Palace Road</td><td>7200</td></tr><tr><td>2025-02</td><td>Gangapur Rd</td><td>7100</td></tr><tr><td>2025-02</td><td>Swaraj Round</td><td>6900</td></tr><tr><td>2025-02</td><td>Khandagiri</td><td>6800</td></tr><tr><td>2025-03</td><td>Shastri Nagar</td><td>17600</td></tr><tr><td>2025-03</td><td>Bahu Fort</td><td>12800</td></tr><tr><td>2025-03</td><td>Cyber City</td><td>9400</td></tr><tr><td>2025-03</td><td>Mathura Rd</td><td>7500</td></tr><tr><td>2025-03</td><td>Vaishali</td><td>7200</td></tr></tbody></table></div>"
      ]
     },
     "metadata": {
      "application/vnd.databricks.v1+output": {
       "addedWidgets": {},
       "aggData": [],
       "aggError": "",
       "aggOverflow": false,
       "aggSchema": [],
       "aggSeriesLimitReached": false,
       "aggType": "",
       "arguments": {},
       "columnCustomDisplayInfos": {},
       "data": [
        [
         "2025-01",
         "Marina Beach",
         21000
        ],
        [
         "2025-01",
         "Banjara Hills",
         18000
        ],
        [
         "2025-01",
         "Juhu Beach",
         15000
        ],
        [
         "2025-01",
         "Sector 17",
         14500
        ],
        [
         "2025-01",
         "Koregaon Park",
         13500
        ],
        [
         "2025-01",
         "Upper Lake",
         13300
        ],
        [
         "2025-01",
         "Golden Temple",
         12000
        ],
        [
         "2025-01",
         "Vijay Nagar",
         8800
        ],
        [
         "2025-01",
         "Gandhi Maidan",
         8600
        ],
        [
         "2025-01",
         "Connaught Pl",
         8500
        ],
        [
         "2025-01",
         "Ashram Road",
         8000
        ],
        [
         "2025-01",
         "Ring Road",
         7800
        ],
        [
         "2025-01",
         "Fort Kochi",
         7000
        ],
        [
         "2025-02",
         "Taj Ganj",
         19500
        ],
        [
         "2025-02",
         "Mehrangarh",
         18500
        ],
        [
         "2025-02",
         "RK Beach",
         17800
        ],
        [
         "2025-02",
         "Caves Road",
         17200
        ],
        [
         "2025-02",
         "Civil Lines",
         16400
        ],
        [
         "2025-02",
         "Dal Lake",
         15200
        ],
        [
         "2025-02",
         "Fateh Sagar",
         15000
        ],
        [
         "2025-02",
         "Sitabuldi",
         12800
        ],
        [
         "2025-02",
         "Chatram",
         12500
        ],
        [
         "2025-02",
         "Rajpur Road",
         12200
        ],
        [
         "2025-02",
         "Kalavad Rd",
         11800
        ],
        [
         "2025-02",
         "Gandhipuram",
         9700
        ],
        [
         "2025-02",
         "Hampankatta",
         9600
        ],
        [
         "2025-02",
         "Bistupur",
         9300
        ],
        [
         "2025-02",
         "GS Road",
         9200
        ],
        [
         "2025-02",
         "Morabadi",
         8900
        ],
        [
         "2025-02",
         "Meenakshi St",
         7600
        ],
        [
         "2025-02",
         "Station Rd",
         7400
        ],
        [
         "2025-02",
         "Palace Road",
         7200
        ],
        [
         "2025-02",
         "Gangapur Rd",
         7100
        ],
        [
         "2025-02",
         "Swaraj Round",
         6900
        ],
        [
         "2025-02",
         "Khandagiri",
         6800
        ],
        [
         "2025-03",
         "Shastri Nagar",
         17600
        ],
        [
         "2025-03",
         "Bahu Fort",
         12800
        ],
        [
         "2025-03",
         "Cyber City",
         9400
        ],
        [
         "2025-03",
         "Mathura Rd",
         7500
        ],
        [
         "2025-03",
         "Vaishali",
         7200
        ]
       ],
       "datasetInfos": [
        {
         "name": "_sqldf",
         "schema": {
          "fields": [
           {
            "metadata": {},
            "name": "booking_month",
            "nullable": true,
            "type": "string"
           },
           {
            "metadata": {},
            "name": "location",
            "nullable": true,
            "type": "string"
           },
           {
            "metadata": {},
            "name": "total_revenue",
            "nullable": true,
            "type": "long"
           }
          ],
          "type": "struct"
         },
         "tableIdentifier": null,
         "typeStr": "pyspark.sql.connect.dataframe.DataFrame"
        }
       ],
       "dbfsResultPath": null,
       "isJsonSchema": true,
       "metadata": {
        "createTempViewForImplicitDf": true,
        "dataframeName": "_sqldf",
        "executionCount": 5
       },
       "overflow": false,
       "plotOptions": {
        "customPlotOptions": {},
        "displayType": "table",
        "pivotAggregation": null,
        "pivotColumns": null,
        "xColumns": null,
        "yColumns": null
       },
       "removedWidgets": [],
       "schema": [
        {
         "metadata": "{}",
         "name": "booking_month",
         "type": "\"string\""
        },
        {
         "metadata": "{}",
         "name": "location",
         "type": "\"string\""
        },
        {
         "metadata": "{}",
         "name": "total_revenue",
         "type": "\"long\""
        }
       ],
       "type": "table"
      }
     },
     "output_type": "display_data"
    },
    {
     "output_type": "display_data",
     "data": {
      "text/plain": [
       "Databricks visualization. Run in Databricks to view."
      ]
     },
     "metadata": {
      "application/vnd.databricks.v1.subcommand+json": {
       "baseErrorDetails": null,
       "bindings": {},
       "collapsed": false,
       "command": "%sql WITH q AS (SELECT \n    DATE_FORMAT(booking_date, 'yyyy-MM') AS booking_month,\n    location,\n    SUM(amount_spent) AS total_revenue\nFROM workspace.default.travel_bookings\nWHERE status = 'Booked'\nGROUP BY booking_month, location\nORDER BY booking_month, total_revenue DESC) SELECT `booking_month`,`location` FROM q GROUP BY `booking_month`,`location`",
       "commandTitle": "Visualization 1",
       "commandType": "auto",
       "commandVersion": 0,
       "commentThread": [],
       "commentsVisible": false,
       "contentSha256Hex": null,
       "customPlotOptions": {
        "redashChart": [
         {
          "key": "type",
          "value": "CHART"
         },
         {
          "key": "options",
          "value": {
           "alignYAxesAtZero": true,
           "coefficient": 1,
           "columnConfigurationMap": {
            "series": {
             "column": "location",
             "id": "column_91ae199671"
            },
            "x": {
             "column": "booking_month",
             "id": "column_91ae199668"
            },
            "y": []
           },
           "dateTimeFormat": "DD/MM/YYYY HH:mm",
           "direction": {
            "type": "counterclockwise"
           },
           "error_y": {
            "type": "data",
            "visible": true
           },
           "globalSeriesType": "column",
           "legend": {
            "traceorder": "normal"
           },
           "missingValuesAsZero": true,
           "numberFormat": "0,0.[00000]",
           "percentFormat": "0[.]00%",
           "series": {
            "error_y": {
             "type": "data",
             "visible": true
            },
            "stacking": null
           },
           "seriesOptions": {},
           "showDataLabels": false,
           "sizemode": "diameter",
           "sortX": true,
           "sortY": true,
           "swappedAxes": true,
           "textFormat": "",
           "useAggregationsUi": true,
           "valuesOptions": {},
           "version": 2,
           "xAxis": {
            "labels": {
             "enabled": true
            },
            "type": "-"
           },
           "yAxis": [
            {
             "type": "-"
            },
            {
             "opposite": true,
             "type": "-"
            }
           ]
          }
         }
        ]
       },
       "datasetPreviewNameToCmdIdMap": {},
       "diffDeletes": [],
       "diffInserts": [],
       "displayType": "redashChart",
       "error": null,
       "errorDetails": null,
       "errorSummary": null,
       "errorTraceType": null,
       "finishTime": 0,
       "globalVars": {},
       "guid": "",
       "height": "auto",
       "hideCommandCode": false,
       "hideCommandResult": false,
       "iPythonMetadata": null,
       "inputWidgets": {},
       "isLockedInExamMode": false,
       "latestAssumeRoleInfo": null,
       "latestUser": "a user",
       "latestUserId": null,
       "listResultMetadata": null,
       "metadata": {},
       "nuid": "98020ec0-1e33-4d7e-89c4-6e536d80ed2e",
       "origId": 0,
       "parentHierarchy": [],
       "pivotAggregation": null,
       "pivotColumns": null,
       "position": 104.0,
       "resultDbfsErrorMessage": null,
       "resultDbfsStatus": "INLINED_IN_TREE",
       "results": null,
       "showCommandTitle": false,
       "startTime": 0,
       "state": "input",
       "streamStates": {},
       "subcommandOptions": {
        "queryPlan": {
         "groups": [
          {
           "column": "booking_month",
           "type": "column"
          },
          {
           "column": "location",
           "type": "column"
          }
         ],
         "selects": [
          {
           "column": "booking_month",
           "type": "column"
          },
          {
           "column": "location",
           "type": "column"
          }
         ]
        }
       },
       "submitTime": 0,
       "subtype": "tableResultSubCmd.visualization",
       "tableResultIndex": 0,
       "tableResultSettingsMap": {},
       "useConsistentColors": false,
       "version": "CommandV1",
       "width": "auto",
       "workflows": [],
       "xColumns": null,
       "yColumns": null
      }
     },
     "output_type": "display_data"
    }
   ],
   "source": [
    "%sql\n",
    "SELECT \n",
    "    DATE_FORMAT(booking_date, 'yyyy-MM') AS booking_month,\n",
    "    location,\n",
    "    SUM(amount_spent) AS total_revenue\n",
    "FROM workspace.default.travel_bookings\n",
    "WHERE status = 'Booked'\n",
    "GROUP BY booking_month, location\n",
    "ORDER BY booking_month, total_revenue DESC;\n"
   ]
  }
 ],
 "metadata": {
  "application/vnd.databricks.v1+notebook": {
   "computePreferences": null,
   "dashboards": [],
   "environmentMetadata": {
    "base_environment": "",
    "environment_version": "3"
   },
   "inputWidgetPreferences": null,
   "language": "python",
   "notebookMetadata": {
    "mostRecentlyExecutedCommandWithImplicitDF": {
     "commandId": 7387437597839301,
     "dataframes": [
      "_sqldf"
     ]
    },
    "pythonIndentUnit": 4
   },
   "notebookName": "BA",
   "widgets": {}
  },
  "language_info": {
   "name": "python"
  }
 },
 "nbformat": 4,
 "nbformat_minor": 0
}